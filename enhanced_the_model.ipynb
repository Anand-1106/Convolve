{
  "nbformat": 4,
  "nbformat_minor": 0,
  "metadata": {
    "colab": {
      "provenance": [],
      "authorship_tag": "ABX9TyOsiJ/AbLf4tro2GFqjkI1+",
      "include_colab_link": true
    },
    "kernelspec": {
      "name": "python3",
      "display_name": "Python 3"
    },
    "language_info": {
      "name": "python"
    }
  },
  "cells": [
    {
      "cell_type": "markdown",
      "metadata": {
        "id": "view-in-github",
        "colab_type": "text"
      },
      "source": [
        "<a href=\"https://colab.research.google.com/github/Anand-1106/Convolve/blob/main/enhanced_the_model.ipynb\" target=\"_parent\"><img src=\"https://colab.research.google.com/assets/colab-badge.svg\" alt=\"Open In Colab\"/></a>"
      ]
    },
    {
      "cell_type": "code",
      "execution_count": 27,
      "metadata": {
        "colab": {
          "base_uri": "https://localhost:8080/"
        },
        "id": "VAGYNMYVJ-tV",
        "outputId": "45dd19a4-8866-439a-e0da-d1633229e77f"
      },
      "outputs": [
        {
          "output_type": "execute_result",
          "data": {
            "text/plain": [
              "(351, 8)"
            ]
          },
          "metadata": {},
          "execution_count": 27
        }
      ],
      "source": [
        "import pandas as pd\n",
        "df.shape"
      ]
    },
    {
      "cell_type": "code",
      "source": [
        "df = pd.read_excel(\"PS2.xlsx\")"
      ],
      "metadata": {
        "id": "vz5isv-KNxPx"
      },
      "execution_count": 2,
      "outputs": []
    },
    {
      "cell_type": "code",
      "source": [
        "df.head()"
      ],
      "metadata": {
        "colab": {
          "base_uri": "https://localhost:8080/",
          "height": 206
        },
        "id": "bWLaXdpWN8Mq",
        "outputId": "317eeed2-f0f8-4b41-c67c-3cf3b040a469"
      },
      "execution_count": 3,
      "outputs": [
        {
          "output_type": "execute_result",
          "data": {
            "text/plain": [
              "             File Changed        Component     Coder       Tester    Category  \\\n",
              "0   cpp/csyu/category/fnf  asr1001-flowpsk  Batukbaj        samsk  PD-asr1001   \n",
              "1          ignor-dp/build    asr1001-ignor      Alex  manishakang       Tools   \n",
              "2            ignor-dp/cdp    asr1001-ignor      Alex  manishakang  PD-asr1001   \n",
              "3  ignor-dp/csco/affinity    asr1001-ignor      Alex  manishakang  PD-asr1001   \n",
              "4       ignor-dp/csco/cdp    asr1001-ignor      Alex  manishakang  PD-asr1001   \n",
              "\n",
              "  Sanity name nets Tested Sanity Result  \n",
              "0  Thor_Vista     NCS5500          Pass  \n",
              "1  vistra-cxr     NCS5500       Aborted  \n",
              "2  vistra-cxr     NCS5500          Fail  \n",
              "3  vistra-cxr     NCS5500       Aborted  \n",
              "4  vistra-cxr     NCS5500       Aborted  "
            ],
            "text/html": [
              "\n",
              "  <div id=\"df-ddded315-e0ca-4677-afaa-0c9ef61baa91\">\n",
              "    <div class=\"colab-df-container\">\n",
              "      <div>\n",
              "<style scoped>\n",
              "    .dataframe tbody tr th:only-of-type {\n",
              "        vertical-align: middle;\n",
              "    }\n",
              "\n",
              "    .dataframe tbody tr th {\n",
              "        vertical-align: top;\n",
              "    }\n",
              "\n",
              "    .dataframe thead th {\n",
              "        text-align: right;\n",
              "    }\n",
              "</style>\n",
              "<table border=\"1\" class=\"dataframe\">\n",
              "  <thead>\n",
              "    <tr style=\"text-align: right;\">\n",
              "      <th></th>\n",
              "      <th>File Changed</th>\n",
              "      <th>Component</th>\n",
              "      <th>Coder</th>\n",
              "      <th>Tester</th>\n",
              "      <th>Category</th>\n",
              "      <th>Sanity name</th>\n",
              "      <th>nets Tested</th>\n",
              "      <th>Sanity Result</th>\n",
              "    </tr>\n",
              "  </thead>\n",
              "  <tbody>\n",
              "    <tr>\n",
              "      <th>0</th>\n",
              "      <td>cpp/csyu/category/fnf</td>\n",
              "      <td>asr1001-flowpsk</td>\n",
              "      <td>Batukbaj</td>\n",
              "      <td>samsk</td>\n",
              "      <td>PD-asr1001</td>\n",
              "      <td>Thor_Vista</td>\n",
              "      <td>NCS5500</td>\n",
              "      <td>Pass</td>\n",
              "    </tr>\n",
              "    <tr>\n",
              "      <th>1</th>\n",
              "      <td>ignor-dp/build</td>\n",
              "      <td>asr1001-ignor</td>\n",
              "      <td>Alex</td>\n",
              "      <td>manishakang</td>\n",
              "      <td>Tools</td>\n",
              "      <td>vistra-cxr</td>\n",
              "      <td>NCS5500</td>\n",
              "      <td>Aborted</td>\n",
              "    </tr>\n",
              "    <tr>\n",
              "      <th>2</th>\n",
              "      <td>ignor-dp/cdp</td>\n",
              "      <td>asr1001-ignor</td>\n",
              "      <td>Alex</td>\n",
              "      <td>manishakang</td>\n",
              "      <td>PD-asr1001</td>\n",
              "      <td>vistra-cxr</td>\n",
              "      <td>NCS5500</td>\n",
              "      <td>Fail</td>\n",
              "    </tr>\n",
              "    <tr>\n",
              "      <th>3</th>\n",
              "      <td>ignor-dp/csco/affinity</td>\n",
              "      <td>asr1001-ignor</td>\n",
              "      <td>Alex</td>\n",
              "      <td>manishakang</td>\n",
              "      <td>PD-asr1001</td>\n",
              "      <td>vistra-cxr</td>\n",
              "      <td>NCS5500</td>\n",
              "      <td>Aborted</td>\n",
              "    </tr>\n",
              "    <tr>\n",
              "      <th>4</th>\n",
              "      <td>ignor-dp/csco/cdp</td>\n",
              "      <td>asr1001-ignor</td>\n",
              "      <td>Alex</td>\n",
              "      <td>manishakang</td>\n",
              "      <td>PD-asr1001</td>\n",
              "      <td>vistra-cxr</td>\n",
              "      <td>NCS5500</td>\n",
              "      <td>Aborted</td>\n",
              "    </tr>\n",
              "  </tbody>\n",
              "</table>\n",
              "</div>\n",
              "      <button class=\"colab-df-convert\" onclick=\"convertToInteractive('df-ddded315-e0ca-4677-afaa-0c9ef61baa91')\"\n",
              "              title=\"Convert this dataframe to an interactive table.\"\n",
              "              style=\"display:none;\">\n",
              "        \n",
              "  <svg xmlns=\"http://www.w3.org/2000/svg\" height=\"24px\"viewBox=\"0 0 24 24\"\n",
              "       width=\"24px\">\n",
              "    <path d=\"M0 0h24v24H0V0z\" fill=\"none\"/>\n",
              "    <path d=\"M18.56 5.44l.94 2.06.94-2.06 2.06-.94-2.06-.94-.94-2.06-.94 2.06-2.06.94zm-11 1L8.5 8.5l.94-2.06 2.06-.94-2.06-.94L8.5 2.5l-.94 2.06-2.06.94zm10 10l.94 2.06.94-2.06 2.06-.94-2.06-.94-.94-2.06-.94 2.06-2.06.94z\"/><path d=\"M17.41 7.96l-1.37-1.37c-.4-.4-.92-.59-1.43-.59-.52 0-1.04.2-1.43.59L10.3 9.45l-7.72 7.72c-.78.78-.78 2.05 0 2.83L4 21.41c.39.39.9.59 1.41.59.51 0 1.02-.2 1.41-.59l7.78-7.78 2.81-2.81c.8-.78.8-2.07 0-2.86zM5.41 20L4 18.59l7.72-7.72 1.47 1.35L5.41 20z\"/>\n",
              "  </svg>\n",
              "      </button>\n",
              "      \n",
              "  <style>\n",
              "    .colab-df-container {\n",
              "      display:flex;\n",
              "      flex-wrap:wrap;\n",
              "      gap: 12px;\n",
              "    }\n",
              "\n",
              "    .colab-df-convert {\n",
              "      background-color: #E8F0FE;\n",
              "      border: none;\n",
              "      border-radius: 50%;\n",
              "      cursor: pointer;\n",
              "      display: none;\n",
              "      fill: #1967D2;\n",
              "      height: 32px;\n",
              "      padding: 0 0 0 0;\n",
              "      width: 32px;\n",
              "    }\n",
              "\n",
              "    .colab-df-convert:hover {\n",
              "      background-color: #E2EBFA;\n",
              "      box-shadow: 0px 1px 2px rgba(60, 64, 67, 0.3), 0px 1px 3px 1px rgba(60, 64, 67, 0.15);\n",
              "      fill: #174EA6;\n",
              "    }\n",
              "\n",
              "    [theme=dark] .colab-df-convert {\n",
              "      background-color: #3B4455;\n",
              "      fill: #D2E3FC;\n",
              "    }\n",
              "\n",
              "    [theme=dark] .colab-df-convert:hover {\n",
              "      background-color: #434B5C;\n",
              "      box-shadow: 0px 1px 3px 1px rgba(0, 0, 0, 0.15);\n",
              "      filter: drop-shadow(0px 1px 2px rgba(0, 0, 0, 0.3));\n",
              "      fill: #FFFFFF;\n",
              "    }\n",
              "  </style>\n",
              "\n",
              "      <script>\n",
              "        const buttonEl =\n",
              "          document.querySelector('#df-ddded315-e0ca-4677-afaa-0c9ef61baa91 button.colab-df-convert');\n",
              "        buttonEl.style.display =\n",
              "          google.colab.kernel.accessAllowed ? 'block' : 'none';\n",
              "\n",
              "        async function convertToInteractive(key) {\n",
              "          const element = document.querySelector('#df-ddded315-e0ca-4677-afaa-0c9ef61baa91');\n",
              "          const dataTable =\n",
              "            await google.colab.kernel.invokeFunction('convertToInteractive',\n",
              "                                                     [key], {});\n",
              "          if (!dataTable) return;\n",
              "\n",
              "          const docLinkHtml = 'Like what you see? Visit the ' +\n",
              "            '<a target=\"_blank\" href=https://colab.research.google.com/notebooks/data_table.ipynb>data table notebook</a>'\n",
              "            + ' to learn more about interactive tables.';\n",
              "          element.innerHTML = '';\n",
              "          dataTable['output_type'] = 'display_data';\n",
              "          await google.colab.output.renderOutput(dataTable, element);\n",
              "          const docLink = document.createElement('div');\n",
              "          docLink.innerHTML = docLinkHtml;\n",
              "          element.appendChild(docLink);\n",
              "        }\n",
              "      </script>\n",
              "    </div>\n",
              "  </div>\n",
              "  "
            ]
          },
          "metadata": {},
          "execution_count": 3
        }
      ]
    },
    {
      "cell_type": "code",
      "source": [
        "df_passed = df[df[\"Sanity Result\"]==\"Pass\"]"
      ],
      "metadata": {
        "id": "bS03Icy-N9q0"
      },
      "execution_count": 5,
      "outputs": []
    },
    {
      "cell_type": "code",
      "source": [
        "df_passed.head()"
      ],
      "metadata": {
        "colab": {
          "base_uri": "https://localhost:8080/",
          "height": 206
        },
        "id": "_0mnfQDfOH6T",
        "outputId": "0a126955-e035-4ce8-eb3d-17885bd914d3"
      },
      "execution_count": 6,
      "outputs": [
        {
          "output_type": "execute_result",
          "data": {
            "text/plain": [
              "             File Changed        Component     Coder       Tester    Category  \\\n",
              "0   cpp/csyu/category/fnf  asr1001-flowpsk  Batukbaj        samsk  PD-asr1001   \n",
              "8       ignor-dp/csco/ova    asr1001-ignor      Alex  manishakang  PD-asr1001   \n",
              "9     ignor-dp/csco/ports    asr1001-ignor      Alex  manishakang       Tools   \n",
              "10  ignor-dp/csco/procman    asr1001-ignor   patrick  manishakang  PD-asr1001   \n",
              "11          ignor-dp/isod    asr1001-ignor   patrick  manishakang       Tools   \n",
              "\n",
              "   Sanity name nets Tested Sanity Result  \n",
              "0   Thor_Vista     NCS5500          Pass  \n",
              "8   vistra-cxr     NCS5500          Pass  \n",
              "9   vistra-cxr     NCS5500          Pass  \n",
              "10  vistra-cxr     NCS5500          Pass  \n",
              "11  vistra-cxr     NCS5500          Pass  "
            ],
            "text/html": [
              "\n",
              "  <div id=\"df-29f3ca66-8faa-4686-8b04-bedc4152bda7\">\n",
              "    <div class=\"colab-df-container\">\n",
              "      <div>\n",
              "<style scoped>\n",
              "    .dataframe tbody tr th:only-of-type {\n",
              "        vertical-align: middle;\n",
              "    }\n",
              "\n",
              "    .dataframe tbody tr th {\n",
              "        vertical-align: top;\n",
              "    }\n",
              "\n",
              "    .dataframe thead th {\n",
              "        text-align: right;\n",
              "    }\n",
              "</style>\n",
              "<table border=\"1\" class=\"dataframe\">\n",
              "  <thead>\n",
              "    <tr style=\"text-align: right;\">\n",
              "      <th></th>\n",
              "      <th>File Changed</th>\n",
              "      <th>Component</th>\n",
              "      <th>Coder</th>\n",
              "      <th>Tester</th>\n",
              "      <th>Category</th>\n",
              "      <th>Sanity name</th>\n",
              "      <th>nets Tested</th>\n",
              "      <th>Sanity Result</th>\n",
              "    </tr>\n",
              "  </thead>\n",
              "  <tbody>\n",
              "    <tr>\n",
              "      <th>0</th>\n",
              "      <td>cpp/csyu/category/fnf</td>\n",
              "      <td>asr1001-flowpsk</td>\n",
              "      <td>Batukbaj</td>\n",
              "      <td>samsk</td>\n",
              "      <td>PD-asr1001</td>\n",
              "      <td>Thor_Vista</td>\n",
              "      <td>NCS5500</td>\n",
              "      <td>Pass</td>\n",
              "    </tr>\n",
              "    <tr>\n",
              "      <th>8</th>\n",
              "      <td>ignor-dp/csco/ova</td>\n",
              "      <td>asr1001-ignor</td>\n",
              "      <td>Alex</td>\n",
              "      <td>manishakang</td>\n",
              "      <td>PD-asr1001</td>\n",
              "      <td>vistra-cxr</td>\n",
              "      <td>NCS5500</td>\n",
              "      <td>Pass</td>\n",
              "    </tr>\n",
              "    <tr>\n",
              "      <th>9</th>\n",
              "      <td>ignor-dp/csco/ports</td>\n",
              "      <td>asr1001-ignor</td>\n",
              "      <td>Alex</td>\n",
              "      <td>manishakang</td>\n",
              "      <td>Tools</td>\n",
              "      <td>vistra-cxr</td>\n",
              "      <td>NCS5500</td>\n",
              "      <td>Pass</td>\n",
              "    </tr>\n",
              "    <tr>\n",
              "      <th>10</th>\n",
              "      <td>ignor-dp/csco/procman</td>\n",
              "      <td>asr1001-ignor</td>\n",
              "      <td>patrick</td>\n",
              "      <td>manishakang</td>\n",
              "      <td>PD-asr1001</td>\n",
              "      <td>vistra-cxr</td>\n",
              "      <td>NCS5500</td>\n",
              "      <td>Pass</td>\n",
              "    </tr>\n",
              "    <tr>\n",
              "      <th>11</th>\n",
              "      <td>ignor-dp/isod</td>\n",
              "      <td>asr1001-ignor</td>\n",
              "      <td>patrick</td>\n",
              "      <td>manishakang</td>\n",
              "      <td>Tools</td>\n",
              "      <td>vistra-cxr</td>\n",
              "      <td>NCS5500</td>\n",
              "      <td>Pass</td>\n",
              "    </tr>\n",
              "  </tbody>\n",
              "</table>\n",
              "</div>\n",
              "      <button class=\"colab-df-convert\" onclick=\"convertToInteractive('df-29f3ca66-8faa-4686-8b04-bedc4152bda7')\"\n",
              "              title=\"Convert this dataframe to an interactive table.\"\n",
              "              style=\"display:none;\">\n",
              "        \n",
              "  <svg xmlns=\"http://www.w3.org/2000/svg\" height=\"24px\"viewBox=\"0 0 24 24\"\n",
              "       width=\"24px\">\n",
              "    <path d=\"M0 0h24v24H0V0z\" fill=\"none\"/>\n",
              "    <path d=\"M18.56 5.44l.94 2.06.94-2.06 2.06-.94-2.06-.94-.94-2.06-.94 2.06-2.06.94zm-11 1L8.5 8.5l.94-2.06 2.06-.94-2.06-.94L8.5 2.5l-.94 2.06-2.06.94zm10 10l.94 2.06.94-2.06 2.06-.94-2.06-.94-.94-2.06-.94 2.06-2.06.94z\"/><path d=\"M17.41 7.96l-1.37-1.37c-.4-.4-.92-.59-1.43-.59-.52 0-1.04.2-1.43.59L10.3 9.45l-7.72 7.72c-.78.78-.78 2.05 0 2.83L4 21.41c.39.39.9.59 1.41.59.51 0 1.02-.2 1.41-.59l7.78-7.78 2.81-2.81c.8-.78.8-2.07 0-2.86zM5.41 20L4 18.59l7.72-7.72 1.47 1.35L5.41 20z\"/>\n",
              "  </svg>\n",
              "      </button>\n",
              "      \n",
              "  <style>\n",
              "    .colab-df-container {\n",
              "      display:flex;\n",
              "      flex-wrap:wrap;\n",
              "      gap: 12px;\n",
              "    }\n",
              "\n",
              "    .colab-df-convert {\n",
              "      background-color: #E8F0FE;\n",
              "      border: none;\n",
              "      border-radius: 50%;\n",
              "      cursor: pointer;\n",
              "      display: none;\n",
              "      fill: #1967D2;\n",
              "      height: 32px;\n",
              "      padding: 0 0 0 0;\n",
              "      width: 32px;\n",
              "    }\n",
              "\n",
              "    .colab-df-convert:hover {\n",
              "      background-color: #E2EBFA;\n",
              "      box-shadow: 0px 1px 2px rgba(60, 64, 67, 0.3), 0px 1px 3px 1px rgba(60, 64, 67, 0.15);\n",
              "      fill: #174EA6;\n",
              "    }\n",
              "\n",
              "    [theme=dark] .colab-df-convert {\n",
              "      background-color: #3B4455;\n",
              "      fill: #D2E3FC;\n",
              "    }\n",
              "\n",
              "    [theme=dark] .colab-df-convert:hover {\n",
              "      background-color: #434B5C;\n",
              "      box-shadow: 0px 1px 3px 1px rgba(0, 0, 0, 0.15);\n",
              "      filter: drop-shadow(0px 1px 2px rgba(0, 0, 0, 0.3));\n",
              "      fill: #FFFFFF;\n",
              "    }\n",
              "  </style>\n",
              "\n",
              "      <script>\n",
              "        const buttonEl =\n",
              "          document.querySelector('#df-29f3ca66-8faa-4686-8b04-bedc4152bda7 button.colab-df-convert');\n",
              "        buttonEl.style.display =\n",
              "          google.colab.kernel.accessAllowed ? 'block' : 'none';\n",
              "\n",
              "        async function convertToInteractive(key) {\n",
              "          const element = document.querySelector('#df-29f3ca66-8faa-4686-8b04-bedc4152bda7');\n",
              "          const dataTable =\n",
              "            await google.colab.kernel.invokeFunction('convertToInteractive',\n",
              "                                                     [key], {});\n",
              "          if (!dataTable) return;\n",
              "\n",
              "          const docLinkHtml = 'Like what you see? Visit the ' +\n",
              "            '<a target=\"_blank\" href=https://colab.research.google.com/notebooks/data_table.ipynb>data table notebook</a>'\n",
              "            + ' to learn more about interactive tables.';\n",
              "          element.innerHTML = '';\n",
              "          dataTable['output_type'] = 'display_data';\n",
              "          await google.colab.output.renderOutput(dataTable, element);\n",
              "          const docLink = document.createElement('div');\n",
              "          docLink.innerHTML = docLinkHtml;\n",
              "          element.appendChild(docLink);\n",
              "        }\n",
              "      </script>\n",
              "    </div>\n",
              "  </div>\n",
              "  "
            ]
          },
          "metadata": {},
          "execution_count": 6
        }
      ]
    },
    {
      "cell_type": "code",
      "source": [
        "passed_sanity = df_passed[\"Sanity name\"].value_counts()"
      ],
      "metadata": {
        "id": "A0JVuWHhOOZh"
      },
      "execution_count": 15,
      "outputs": []
    },
    {
      "cell_type": "code",
      "source": [
        "total_sanity = df[\"Sanity name\"].value_counts()"
      ],
      "metadata": {
        "id": "0TveMCYIPWM2"
      },
      "execution_count": 16,
      "outputs": []
    },
    {
      "cell_type": "code",
      "source": [
        "percentage_sanity = passed_sanity/total_sanity"
      ],
      "metadata": {
        "id": "mR1h9pw5PhSk"
      },
      "execution_count": 21,
      "outputs": []
    },
    {
      "cell_type": "code",
      "source": [
        "percentage_sanity"
      ],
      "metadata": {
        "colab": {
          "base_uri": "https://localhost:8080/"
        },
        "id": "xIbOhM9DP1K9",
        "outputId": "f1019583-4128-41fd-99d8-422b64321142"
      },
      "execution_count": 22,
      "outputs": [
        {
          "output_type": "execute_result",
          "data": {
            "text/plain": [
              "Arwen-vksr-sanity                                                                                         0.900000\n",
              "Arwen-vksr-sanity,ncs540l_sanity,ncs5500_Sanity                                                           1.000000\n",
              "Arwen-vksr-sanity,ncs540l_sanity,ncs5500_Sanity,spitfire_hw_sanity,spitfire_sim_sanity                         NaN\n",
              "Arwen-vksr-sanity,ncs540l_sanity,ncs5500_qos_bct,ncs5500_Sanity,spitfire_hw_sanity,spitfire_sim_sanity    1.000000\n",
              "Arwen-vksr-sanity,ncs5500_Sanity                                                                          1.000000\n",
              "Arwen-vksr-sanity,ncs5500_Sanity,spitfire_hw_sanity,spitfire_sim_sanity                                   1.000000\n",
              "NCS6K-HSAT-MINI                                                                                           1.000000\n",
              "Sanity_not_Required                                                                                       0.642857\n",
              "Thor_Vista                                                                                                1.000000\n",
              "enxr-kitefg-sanity                                                                                        1.000000\n",
              "enxr-kitefg-sanity,ncs5500_Sanity                                                                         1.000000\n",
              "mini-CRS_QFTS                                                                                             0.450000\n",
              "mini-CRS_QFTS,NCS6K-HSAT-MINI                                                                             1.000000\n",
              "ncs540l_sanity,ncs5500_Sanity                                                                             1.000000\n",
              "ncs540l_sanity,ncs5500_qos_bct,ncs5500_Sanity                                                             1.000000\n",
              "ncs5500_Sanity                                                                                            0.857143\n",
              "ncs560_sanity                                                                                             0.555556\n",
              "vistra-cxr                                                                                                0.500000\n",
              "vistra-cxr,vistra-exr                                                                                     0.571429\n",
              "vistra-cxr,vistra-exr-issu                                                                                0.666667\n",
              "vistra-cxr,vistra-ls,vasr1001_sanity                                                                      1.000000\n",
              "vistra-exr                                                                                                0.500000\n",
              "vistra-ls                                                                                                 1.000000\n",
              "vistra-ls,vasr1001_sanity                                                                                 0.250000\n",
              "xrv9k-sanity_PD                                                                                           0.266667\n",
              "Name: Sanity name, dtype: float64"
            ]
          },
          "metadata": {},
          "execution_count": 22
        }
      ]
    },
    {
      "cell_type": "code",
      "source": [
        "passed_category = df_passed[\"Category\"].value_counts()"
      ],
      "metadata": {
        "id": "7hwrP0RzP2uN"
      },
      "execution_count": 23,
      "outputs": []
    },
    {
      "cell_type": "code",
      "source": [
        "total_category = df[\"Category\"].value_counts()"
      ],
      "metadata": {
        "id": "lIP-p2SNRnAM"
      },
      "execution_count": 24,
      "outputs": []
    },
    {
      "cell_type": "code",
      "source": [
        "percentage_category = passed_category/total_category"
      ],
      "metadata": {
        "id": "KlPT8oWzSBwk"
      },
      "execution_count": 25,
      "outputs": []
    },
    {
      "cell_type": "code",
      "source": [
        "percentage_category"
      ],
      "metadata": {
        "colab": {
          "base_uri": "https://localhost:8080/"
        },
        "id": "lYSvC3VQSYQ-",
        "outputId": "790d6efa-5923-41a3-b1b1-d109eb94d4a3"
      },
      "execution_count": 26,
      "outputs": [
        {
          "output_type": "execute_result",
          "data": {
            "text/plain": [
              "Misc           0.625000\n",
              "PD-CRS         0.450000\n",
              "PD-NCS4K       0.909091\n",
              "PD-NCS6K       1.000000\n",
              "PD-asr1001     0.582192\n",
              "PD-cm          0.617021\n",
              "PD-kitefg      0.909091\n",
              "PD-surflow     0.400000\n",
              "PI-Infra       0.250000\n",
              "Tools          0.666667\n",
              "analyzedata    0.125000\n",
              "Name: Category, dtype: float64"
            ]
          },
          "metadata": {},
          "execution_count": 26
        }
      ]
    },
    {
      "cell_type": "code",
      "source": [
        "passed_nets_tested = df_passed[\"nets Tested\"].value_counts()"
      ],
      "metadata": {
        "id": "AWM3OwvFSbRH"
      },
      "execution_count": 28,
      "outputs": []
    },
    {
      "cell_type": "code",
      "source": [
        "passed_nets_tested"
      ],
      "metadata": {
        "colab": {
          "base_uri": "https://localhost:8080/"
        },
        "id": "9MVZiZ0zUCtv",
        "outputId": "dc530e3c-a661-4948-eab3-6665b705022d"
      },
      "execution_count": 29,
      "outputs": [
        {
          "output_type": "execute_result",
          "data": {
            "text/plain": [
              "asr1001-PX,asr1001-X64     60\n",
              "NCS5500                    44\n",
              "NCS4K                      20\n",
              "NCS5500,NCS540L            16\n",
              "saraja-PX                  14\n",
              "asr1001-X64,asr1001-PX     13\n",
              "NCS6K                      10\n",
              "NCS560,SPITFIRE,NCS540L     8\n",
              "NCS560                      8\n",
              "asr1001-X64                 5\n",
              "SPITFIRE,NCS540L            4\n",
              "XRV9K                       4\n",
              "SPITFIRE,NCS4K              2\n",
              "NCS5K,NCS560                2\n",
              "Name: nets Tested, dtype: int64"
            ]
          },
          "metadata": {},
          "execution_count": 29
        }
      ]
    },
    {
      "cell_type": "code",
      "source": [
        "total_nets_tested = df[\"nets Tested\"].value_counts()"
      ],
      "metadata": {
        "id": "BQ0WoJTnUFUX"
      },
      "execution_count": 30,
      "outputs": []
    },
    {
      "cell_type": "code",
      "source": [
        "per_nets_tested=passed_nets_tested/total_nets_tested"
      ],
      "metadata": {
        "id": "Ru4Q_nAYUXfZ"
      },
      "execution_count": 33,
      "outputs": []
    },
    {
      "cell_type": "code",
      "source": [
        "per_nets_tested"
      ],
      "metadata": {
        "colab": {
          "base_uri": "https://localhost:8080/"
        },
        "id": "sekik5diUa45",
        "outputId": "d08f12b4-e2f0-4e62-f01e-a2b72f1a12a7"
      },
      "execution_count": 34,
      "outputs": [
        {
          "output_type": "execute_result",
          "data": {
            "text/plain": [
              "NCS4K                      0.800000\n",
              "NCS5500                    0.586667\n",
              "NCS5500,NCS540L            1.000000\n",
              "NCS560                     0.470588\n",
              "NCS560,SPITFIRE,NCS540L    0.888889\n",
              "NCS5K,NCS560               1.000000\n",
              "NCS6K                      1.000000\n",
              "SPITFIRE,NCS4K             1.000000\n",
              "SPITFIRE,NCS540L           1.000000\n",
              "XRV9K                      0.363636\n",
              "asr1001-PX,asr1001-X64     0.571429\n",
              "asr1001-X64                0.263158\n",
              "asr1001-X64,asr1001-PX     0.650000\n",
              "saraja-PX                  0.388889\n",
              "Name: nets Tested, dtype: float64"
            ]
          },
          "metadata": {},
          "execution_count": 34
        }
      ]
    },
    {
      "cell_type": "code",
      "source": [],
      "metadata": {
        "id": "rrYrWIZJUubP"
      },
      "execution_count": 35,
      "outputs": []
    },
    {
      "cell_type": "code",
      "source": [],
      "metadata": {
        "colab": {
          "base_uri": "https://localhost:8080/",
          "height": 49
        },
        "id": "h7MlfmLrX_NX",
        "outputId": "3fe1ed5b-3905-451c-96ca-fef50622ac22"
      },
      "execution_count": 36,
      "outputs": [
        {
          "output_type": "execute_result",
          "data": {
            "text/plain": [
              "Empty DataFrame\n",
              "Columns: [File Changed, Component, Coder, Tester, Category, Sanity name, nets Tested, Sanity Result]\n",
              "Index: []"
            ],
            "text/html": [
              "\n",
              "  <div id=\"df-42fde27d-4d83-4293-9197-43b8eaf245cf\">\n",
              "    <div class=\"colab-df-container\">\n",
              "      <div>\n",
              "<style scoped>\n",
              "    .dataframe tbody tr th:only-of-type {\n",
              "        vertical-align: middle;\n",
              "    }\n",
              "\n",
              "    .dataframe tbody tr th {\n",
              "        vertical-align: top;\n",
              "    }\n",
              "\n",
              "    .dataframe thead th {\n",
              "        text-align: right;\n",
              "    }\n",
              "</style>\n",
              "<table border=\"1\" class=\"dataframe\">\n",
              "  <thead>\n",
              "    <tr style=\"text-align: right;\">\n",
              "      <th></th>\n",
              "      <th>File Changed</th>\n",
              "      <th>Component</th>\n",
              "      <th>Coder</th>\n",
              "      <th>Tester</th>\n",
              "      <th>Category</th>\n",
              "      <th>Sanity name</th>\n",
              "      <th>nets Tested</th>\n",
              "      <th>Sanity Result</th>\n",
              "    </tr>\n",
              "  </thead>\n",
              "  <tbody>\n",
              "  </tbody>\n",
              "</table>\n",
              "</div>\n",
              "      <button class=\"colab-df-convert\" onclick=\"convertToInteractive('df-42fde27d-4d83-4293-9197-43b8eaf245cf')\"\n",
              "              title=\"Convert this dataframe to an interactive table.\"\n",
              "              style=\"display:none;\">\n",
              "        \n",
              "  <svg xmlns=\"http://www.w3.org/2000/svg\" height=\"24px\"viewBox=\"0 0 24 24\"\n",
              "       width=\"24px\">\n",
              "    <path d=\"M0 0h24v24H0V0z\" fill=\"none\"/>\n",
              "    <path d=\"M18.56 5.44l.94 2.06.94-2.06 2.06-.94-2.06-.94-.94-2.06-.94 2.06-2.06.94zm-11 1L8.5 8.5l.94-2.06 2.06-.94-2.06-.94L8.5 2.5l-.94 2.06-2.06.94zm10 10l.94 2.06.94-2.06 2.06-.94-2.06-.94-.94-2.06-.94 2.06-2.06.94z\"/><path d=\"M17.41 7.96l-1.37-1.37c-.4-.4-.92-.59-1.43-.59-.52 0-1.04.2-1.43.59L10.3 9.45l-7.72 7.72c-.78.78-.78 2.05 0 2.83L4 21.41c.39.39.9.59 1.41.59.51 0 1.02-.2 1.41-.59l7.78-7.78 2.81-2.81c.8-.78.8-2.07 0-2.86zM5.41 20L4 18.59l7.72-7.72 1.47 1.35L5.41 20z\"/>\n",
              "  </svg>\n",
              "      </button>\n",
              "      \n",
              "  <style>\n",
              "    .colab-df-container {\n",
              "      display:flex;\n",
              "      flex-wrap:wrap;\n",
              "      gap: 12px;\n",
              "    }\n",
              "\n",
              "    .colab-df-convert {\n",
              "      background-color: #E8F0FE;\n",
              "      border: none;\n",
              "      border-radius: 50%;\n",
              "      cursor: pointer;\n",
              "      display: none;\n",
              "      fill: #1967D2;\n",
              "      height: 32px;\n",
              "      padding: 0 0 0 0;\n",
              "      width: 32px;\n",
              "    }\n",
              "\n",
              "    .colab-df-convert:hover {\n",
              "      background-color: #E2EBFA;\n",
              "      box-shadow: 0px 1px 2px rgba(60, 64, 67, 0.3), 0px 1px 3px 1px rgba(60, 64, 67, 0.15);\n",
              "      fill: #174EA6;\n",
              "    }\n",
              "\n",
              "    [theme=dark] .colab-df-convert {\n",
              "      background-color: #3B4455;\n",
              "      fill: #D2E3FC;\n",
              "    }\n",
              "\n",
              "    [theme=dark] .colab-df-convert:hover {\n",
              "      background-color: #434B5C;\n",
              "      box-shadow: 0px 1px 3px 1px rgba(0, 0, 0, 0.15);\n",
              "      filter: drop-shadow(0px 1px 2px rgba(0, 0, 0, 0.3));\n",
              "      fill: #FFFFFF;\n",
              "    }\n",
              "  </style>\n",
              "\n",
              "      <script>\n",
              "        const buttonEl =\n",
              "          document.querySelector('#df-42fde27d-4d83-4293-9197-43b8eaf245cf button.colab-df-convert');\n",
              "        buttonEl.style.display =\n",
              "          google.colab.kernel.accessAllowed ? 'block' : 'none';\n",
              "\n",
              "        async function convertToInteractive(key) {\n",
              "          const element = document.querySelector('#df-42fde27d-4d83-4293-9197-43b8eaf245cf');\n",
              "          const dataTable =\n",
              "            await google.colab.kernel.invokeFunction('convertToInteractive',\n",
              "                                                     [key], {});\n",
              "          if (!dataTable) return;\n",
              "\n",
              "          const docLinkHtml = 'Like what you see? Visit the ' +\n",
              "            '<a target=\"_blank\" href=https://colab.research.google.com/notebooks/data_table.ipynb>data table notebook</a>'\n",
              "            + ' to learn more about interactive tables.';\n",
              "          element.innerHTML = '';\n",
              "          dataTable['output_type'] = 'display_data';\n",
              "          await google.colab.output.renderOutput(dataTable, element);\n",
              "          const docLink = document.createElement('div');\n",
              "          docLink.innerHTML = docLinkHtml;\n",
              "          element.appendChild(docLink);\n",
              "        }\n",
              "      </script>\n",
              "    </div>\n",
              "  </div>\n",
              "  "
            ]
          },
          "metadata": {},
          "execution_count": 36
        }
      ]
    },
    {
      "cell_type": "code",
      "source": [
        "df_fail = df[df[\"Sanity Result\"]==\"Fail\"]"
      ],
      "metadata": {
        "id": "yrQMZyeXYA_P"
      },
      "execution_count": 37,
      "outputs": []
    },
    {
      "cell_type": "code",
      "source": [
        "df_fail.head()"
      ],
      "metadata": {
        "colab": {
          "base_uri": "https://localhost:8080/",
          "height": 320
        },
        "id": "H9edPaZpYaFz",
        "outputId": "465e32f0-9e44-4e57-fdab-2afb3dc75c07"
      },
      "execution_count": 39,
      "outputs": [
        {
          "output_type": "execute_result",
          "data": {
            "text/plain": [
              "                         File Changed      Component        Coder  \\\n",
              "2                        ignor-dp/cdp  asr1001-ignor         Alex   \n",
              "7   ignor-dp/csco/mb-netlink-repeater  asr1001-ignor         Alex   \n",
              "20       psrkp_ghfmeta/saraja-qkrvice            cgn      patrick   \n",
              "29      nets/cm/cis/category/feat_mgr        cis-qos  actalivineo   \n",
              "32       nets/cm/cis/category/ogr/sat        cis-ogr    abhimanyu   \n",
              "\n",
              "         Tester    Category  \\\n",
              "2   manishakang  PD-asr1001   \n",
              "7           nel  PD-asr1001   \n",
              "20  manishakang      PD-CRS   \n",
              "29     arvenugo   PD-kitefg   \n",
              "32     sbejavad       PD-cm   \n",
              "\n",
              "                                          Sanity name  \\\n",
              "2                                          vistra-cxr   \n",
              "7                                          vistra-cxr   \n",
              "20                                      mini-CRS_QFTS   \n",
              "29  Arwen-vksr-sanity,ncs540l_sanity,ncs5500_Sanit...   \n",
              "32                                     ncs5500_Sanity   \n",
              "\n",
              "                nets Tested Sanity Result  \n",
              "2                   NCS5500          Fail  \n",
              "7                   NCS5500          Fail  \n",
              "20                  NCS5500          Fail  \n",
              "29  NCS560,SPITFIRE,NCS540L          Fail  \n",
              "32                  NCS5500          Fail  "
            ],
            "text/html": [
              "\n",
              "  <div id=\"df-733e69ea-8251-4d7d-bf05-ff652031d859\">\n",
              "    <div class=\"colab-df-container\">\n",
              "      <div>\n",
              "<style scoped>\n",
              "    .dataframe tbody tr th:only-of-type {\n",
              "        vertical-align: middle;\n",
              "    }\n",
              "\n",
              "    .dataframe tbody tr th {\n",
              "        vertical-align: top;\n",
              "    }\n",
              "\n",
              "    .dataframe thead th {\n",
              "        text-align: right;\n",
              "    }\n",
              "</style>\n",
              "<table border=\"1\" class=\"dataframe\">\n",
              "  <thead>\n",
              "    <tr style=\"text-align: right;\">\n",
              "      <th></th>\n",
              "      <th>File Changed</th>\n",
              "      <th>Component</th>\n",
              "      <th>Coder</th>\n",
              "      <th>Tester</th>\n",
              "      <th>Category</th>\n",
              "      <th>Sanity name</th>\n",
              "      <th>nets Tested</th>\n",
              "      <th>Sanity Result</th>\n",
              "    </tr>\n",
              "  </thead>\n",
              "  <tbody>\n",
              "    <tr>\n",
              "      <th>2</th>\n",
              "      <td>ignor-dp/cdp</td>\n",
              "      <td>asr1001-ignor</td>\n",
              "      <td>Alex</td>\n",
              "      <td>manishakang</td>\n",
              "      <td>PD-asr1001</td>\n",
              "      <td>vistra-cxr</td>\n",
              "      <td>NCS5500</td>\n",
              "      <td>Fail</td>\n",
              "    </tr>\n",
              "    <tr>\n",
              "      <th>7</th>\n",
              "      <td>ignor-dp/csco/mb-netlink-repeater</td>\n",
              "      <td>asr1001-ignor</td>\n",
              "      <td>Alex</td>\n",
              "      <td>nel</td>\n",
              "      <td>PD-asr1001</td>\n",
              "      <td>vistra-cxr</td>\n",
              "      <td>NCS5500</td>\n",
              "      <td>Fail</td>\n",
              "    </tr>\n",
              "    <tr>\n",
              "      <th>20</th>\n",
              "      <td>psrkp_ghfmeta/saraja-qkrvice</td>\n",
              "      <td>cgn</td>\n",
              "      <td>patrick</td>\n",
              "      <td>manishakang</td>\n",
              "      <td>PD-CRS</td>\n",
              "      <td>mini-CRS_QFTS</td>\n",
              "      <td>NCS5500</td>\n",
              "      <td>Fail</td>\n",
              "    </tr>\n",
              "    <tr>\n",
              "      <th>29</th>\n",
              "      <td>nets/cm/cis/category/feat_mgr</td>\n",
              "      <td>cis-qos</td>\n",
              "      <td>actalivineo</td>\n",
              "      <td>arvenugo</td>\n",
              "      <td>PD-kitefg</td>\n",
              "      <td>Arwen-vksr-sanity,ncs540l_sanity,ncs5500_Sanit...</td>\n",
              "      <td>NCS560,SPITFIRE,NCS540L</td>\n",
              "      <td>Fail</td>\n",
              "    </tr>\n",
              "    <tr>\n",
              "      <th>32</th>\n",
              "      <td>nets/cm/cis/category/ogr/sat</td>\n",
              "      <td>cis-ogr</td>\n",
              "      <td>abhimanyu</td>\n",
              "      <td>sbejavad</td>\n",
              "      <td>PD-cm</td>\n",
              "      <td>ncs5500_Sanity</td>\n",
              "      <td>NCS5500</td>\n",
              "      <td>Fail</td>\n",
              "    </tr>\n",
              "  </tbody>\n",
              "</table>\n",
              "</div>\n",
              "      <button class=\"colab-df-convert\" onclick=\"convertToInteractive('df-733e69ea-8251-4d7d-bf05-ff652031d859')\"\n",
              "              title=\"Convert this dataframe to an interactive table.\"\n",
              "              style=\"display:none;\">\n",
              "        \n",
              "  <svg xmlns=\"http://www.w3.org/2000/svg\" height=\"24px\"viewBox=\"0 0 24 24\"\n",
              "       width=\"24px\">\n",
              "    <path d=\"M0 0h24v24H0V0z\" fill=\"none\"/>\n",
              "    <path d=\"M18.56 5.44l.94 2.06.94-2.06 2.06-.94-2.06-.94-.94-2.06-.94 2.06-2.06.94zm-11 1L8.5 8.5l.94-2.06 2.06-.94-2.06-.94L8.5 2.5l-.94 2.06-2.06.94zm10 10l.94 2.06.94-2.06 2.06-.94-2.06-.94-.94-2.06-.94 2.06-2.06.94z\"/><path d=\"M17.41 7.96l-1.37-1.37c-.4-.4-.92-.59-1.43-.59-.52 0-1.04.2-1.43.59L10.3 9.45l-7.72 7.72c-.78.78-.78 2.05 0 2.83L4 21.41c.39.39.9.59 1.41.59.51 0 1.02-.2 1.41-.59l7.78-7.78 2.81-2.81c.8-.78.8-2.07 0-2.86zM5.41 20L4 18.59l7.72-7.72 1.47 1.35L5.41 20z\"/>\n",
              "  </svg>\n",
              "      </button>\n",
              "      \n",
              "  <style>\n",
              "    .colab-df-container {\n",
              "      display:flex;\n",
              "      flex-wrap:wrap;\n",
              "      gap: 12px;\n",
              "    }\n",
              "\n",
              "    .colab-df-convert {\n",
              "      background-color: #E8F0FE;\n",
              "      border: none;\n",
              "      border-radius: 50%;\n",
              "      cursor: pointer;\n",
              "      display: none;\n",
              "      fill: #1967D2;\n",
              "      height: 32px;\n",
              "      padding: 0 0 0 0;\n",
              "      width: 32px;\n",
              "    }\n",
              "\n",
              "    .colab-df-convert:hover {\n",
              "      background-color: #E2EBFA;\n",
              "      box-shadow: 0px 1px 2px rgba(60, 64, 67, 0.3), 0px 1px 3px 1px rgba(60, 64, 67, 0.15);\n",
              "      fill: #174EA6;\n",
              "    }\n",
              "\n",
              "    [theme=dark] .colab-df-convert {\n",
              "      background-color: #3B4455;\n",
              "      fill: #D2E3FC;\n",
              "    }\n",
              "\n",
              "    [theme=dark] .colab-df-convert:hover {\n",
              "      background-color: #434B5C;\n",
              "      box-shadow: 0px 1px 3px 1px rgba(0, 0, 0, 0.15);\n",
              "      filter: drop-shadow(0px 1px 2px rgba(0, 0, 0, 0.3));\n",
              "      fill: #FFFFFF;\n",
              "    }\n",
              "  </style>\n",
              "\n",
              "      <script>\n",
              "        const buttonEl =\n",
              "          document.querySelector('#df-733e69ea-8251-4d7d-bf05-ff652031d859 button.colab-df-convert');\n",
              "        buttonEl.style.display =\n",
              "          google.colab.kernel.accessAllowed ? 'block' : 'none';\n",
              "\n",
              "        async function convertToInteractive(key) {\n",
              "          const element = document.querySelector('#df-733e69ea-8251-4d7d-bf05-ff652031d859');\n",
              "          const dataTable =\n",
              "            await google.colab.kernel.invokeFunction('convertToInteractive',\n",
              "                                                     [key], {});\n",
              "          if (!dataTable) return;\n",
              "\n",
              "          const docLinkHtml = 'Like what you see? Visit the ' +\n",
              "            '<a target=\"_blank\" href=https://colab.research.google.com/notebooks/data_table.ipynb>data table notebook</a>'\n",
              "            + ' to learn more about interactive tables.';\n",
              "          element.innerHTML = '';\n",
              "          dataTable['output_type'] = 'display_data';\n",
              "          await google.colab.output.renderOutput(dataTable, element);\n",
              "          const docLink = document.createElement('div');\n",
              "          docLink.innerHTML = docLinkHtml;\n",
              "          element.appendChild(docLink);\n",
              "        }\n",
              "      </script>\n",
              "    </div>\n",
              "  </div>\n",
              "  "
            ]
          },
          "metadata": {},
          "execution_count": 39
        }
      ]
    },
    {
      "cell_type": "code",
      "source": [
        "Failed_nets_tested = df_fail[\"nets Tested\"].value_counts()"
      ],
      "metadata": {
        "id": "WRWGCE3zYa4R"
      },
      "execution_count": 40,
      "outputs": []
    },
    {
      "cell_type": "code",
      "source": [
        "Failed_nets_tested"
      ],
      "metadata": {
        "colab": {
          "base_uri": "https://localhost:8080/"
        },
        "id": "rBFCLOdmY1YE",
        "outputId": "ba91ee6f-a23a-4dc5-908b-396957585ee9"
      },
      "execution_count": 41,
      "outputs": [
        {
          "output_type": "execute_result",
          "data": {
            "text/plain": [
              "saraja-PX                  22\n",
              "asr1001-PX,asr1001-X64     21\n",
              "NCS5500                    11\n",
              "asr1001-X64                 7\n",
              "asr1001-X64,asr1001-PX      4\n",
              "NCS560                      3\n",
              "NCS4K                       2\n",
              "NCS560,SPITFIRE,NCS540L     1\n",
              "Name: nets Tested, dtype: int64"
            ]
          },
          "metadata": {},
          "execution_count": 41
        }
      ]
    },
    {
      "cell_type": "code",
      "source": [
        "total_nets_tested = df[\"nets Tested\"].value_counts()"
      ],
      "metadata": {
        "id": "NJ1gQZYgY4rv"
      },
      "execution_count": 42,
      "outputs": []
    },
    {
      "cell_type": "code",
      "source": [
        "per_fail_nets_tested = Failed_nets_tested/total_nets_tested"
      ],
      "metadata": {
        "id": "3IE3OpqwZIth"
      },
      "execution_count": 43,
      "outputs": []
    },
    {
      "cell_type": "code",
      "source": [
        "per_fail_nets_tested"
      ],
      "metadata": {
        "colab": {
          "base_uri": "https://localhost:8080/"
        },
        "id": "U7kigcaOZSK6",
        "outputId": "60b3f8a6-f061-4b04-b044-f31bdd0a52b3"
      },
      "execution_count": 44,
      "outputs": [
        {
          "output_type": "execute_result",
          "data": {
            "text/plain": [
              "NCS4K                      0.080000\n",
              "NCS5500                    0.146667\n",
              "NCS5500,NCS540L                 NaN\n",
              "NCS560                     0.176471\n",
              "NCS560,SPITFIRE,NCS540L    0.111111\n",
              "NCS5K,NCS560                    NaN\n",
              "NCS6K                           NaN\n",
              "SPITFIRE,NCS4K                  NaN\n",
              "SPITFIRE,NCS540L                NaN\n",
              "XRV9K                           NaN\n",
              "asr1001-PX,asr1001-X64     0.200000\n",
              "asr1001-X64                0.368421\n",
              "asr1001-X64,asr1001-PX     0.200000\n",
              "saraja-PX                  0.611111\n",
              "Name: nets Tested, dtype: float64"
            ]
          },
          "metadata": {},
          "execution_count": 44
        }
      ]
    },
    {
      "cell_type": "code",
      "source": [
        "fail_category = df_fail[\"Category\"].value_counts()"
      ],
      "metadata": {
        "id": "kCeakhB_ZVed"
      },
      "execution_count": 45,
      "outputs": []
    },
    {
      "cell_type": "code",
      "source": [
        "fail_category"
      ],
      "metadata": {
        "colab": {
          "base_uri": "https://localhost:8080/"
        },
        "id": "40uyY07uaBfP",
        "outputId": "23ecced4-b38c-4cf0-b10e-979ff036021a"
      },
      "execution_count": 46,
      "outputs": [
        {
          "output_type": "execute_result",
          "data": {
            "text/plain": [
              "PD-asr1001     29\n",
              "PD-CRS         22\n",
              "PD-cm           7\n",
              "analyzedata     5\n",
              "PI-Infra        4\n",
              "PD-kitefg       2\n",
              "PD-NCS4K        2\n",
              "Name: Category, dtype: int64"
            ]
          },
          "metadata": {},
          "execution_count": 46
        }
      ]
    },
    {
      "cell_type": "code",
      "source": [
        "total_category = df[\"Category\"].value_counts()"
      ],
      "metadata": {
        "id": "M57obSGpaDQI"
      },
      "execution_count": 49,
      "outputs": []
    },
    {
      "cell_type": "code",
      "source": [
        "total_category"
      ],
      "metadata": {
        "colab": {
          "base_uri": "https://localhost:8080/"
        },
        "id": "FRmKyVQpaSu7",
        "outputId": "539202de-3f9f-43af-f9dc-9ecaeb166e8b"
      },
      "execution_count": 50,
      "outputs": [
        {
          "output_type": "execute_result",
          "data": {
            "text/plain": [
              "PD-asr1001     146\n",
              "PD-cm           47\n",
              "PD-CRS          40\n",
              "PD-NCS4K        22\n",
              "PD-kitefg       22\n",
              "PD-surflow      20\n",
              "Misc            16\n",
              "PI-Infra        12\n",
              "PD-NCS6K        12\n",
              "analyzedata      8\n",
              "Tools            6\n",
              "Name: Category, dtype: int64"
            ]
          },
          "metadata": {},
          "execution_count": 50
        }
      ]
    },
    {
      "cell_type": "code",
      "source": [
        "per_category = fail_category/total_category"
      ],
      "metadata": {
        "id": "U17LkdOKaUUf"
      },
      "execution_count": 51,
      "outputs": []
    },
    {
      "cell_type": "code",
      "source": [
        "per_category"
      ],
      "metadata": {
        "colab": {
          "base_uri": "https://localhost:8080/"
        },
        "id": "HaeJllJAatu1",
        "outputId": "b181ee04-e710-439c-972d-80a7127102a3"
      },
      "execution_count": 52,
      "outputs": [
        {
          "output_type": "execute_result",
          "data": {
            "text/plain": [
              "Misc                NaN\n",
              "PD-CRS         0.550000\n",
              "PD-NCS4K       0.090909\n",
              "PD-NCS6K            NaN\n",
              "PD-asr1001     0.198630\n",
              "PD-cm          0.148936\n",
              "PD-kitefg      0.090909\n",
              "PD-surflow          NaN\n",
              "PI-Infra       0.333333\n",
              "Tools               NaN\n",
              "analyzedata    0.625000\n",
              "Name: Category, dtype: float64"
            ]
          },
          "metadata": {},
          "execution_count": 52
        }
      ]
    },
    {
      "cell_type": "code",
      "source": [
        "fail_sanity = df_fail[\"Sanity name\"].value_counts()"
      ],
      "metadata": {
        "id": "69ByaTWKawCb"
      },
      "execution_count": 53,
      "outputs": []
    },
    {
      "cell_type": "code",
      "source": [
        "fail_sanity"
      ],
      "metadata": {
        "colab": {
          "base_uri": "https://localhost:8080/"
        },
        "id": "yjXiz2PWbYct",
        "outputId": "c426b016-7a5c-4779-bad3-6ca4de61c670"
      },
      "execution_count": 54,
      "outputs": [
        {
          "output_type": "execute_result",
          "data": {
            "text/plain": [
              "vistra-cxr                                                                                27\n",
              "mini-CRS_QFTS                                                                             22\n",
              "Sanity_not_Required                                                                        5\n",
              "vistra-ls,vasr1001_sanity                                                                  4\n",
              "Arwen-vksr-sanity,ncs540l_sanity,ncs5500_Sanity,spitfire_hw_sanity,spitfire_sim_sanity     2\n",
              "ncs5500_Sanity                                                                             2\n",
              "xrv9k-sanity_PD                                                                            2\n",
              "Arwen-vksr-sanity                                                                          2\n",
              "ncs560_sanity                                                                              2\n",
              "vistra-cxr,vistra-exr-issu                                                                 2\n",
              "vistra-exr                                                                                 1\n",
              "Name: Sanity name, dtype: int64"
            ]
          },
          "metadata": {},
          "execution_count": 54
        }
      ]
    },
    {
      "cell_type": "code",
      "source": [
        "total_sanity = df[\"Sanity name\"].value_counts()"
      ],
      "metadata": {
        "id": "FxN0T92ybb0Y"
      },
      "execution_count": 55,
      "outputs": []
    },
    {
      "cell_type": "code",
      "source": [
        "total_sanity"
      ],
      "metadata": {
        "colab": {
          "base_uri": "https://localhost:8080/"
        },
        "id": "BPG5NKNEcFiI",
        "outputId": "bd8b13c8-6029-417e-c764-3f65dd05bd70"
      },
      "execution_count": 56,
      "outputs": [
        {
          "output_type": "execute_result",
          "data": {
            "text/plain": [
              "vistra-cxr                                                                                                122\n",
              "mini-CRS_QFTS                                                                                              40\n",
              "xrv9k-sanity_PD                                                                                            30\n",
              "Arwen-vksr-sanity                                                                                          20\n",
              "ncs560_sanity                                                                                              18\n",
              "Sanity_not_Required                                                                                        14\n",
              "mini-CRS_QFTS,NCS6K-HSAT-MINI                                                                              14\n",
              "ncs5500_Sanity                                                                                             14\n",
              "vistra-cxr,vistra-exr                                                                                      14\n",
              "NCS6K-HSAT-MINI                                                                                            12\n",
              "vistra-ls,vasr1001_sanity                                                                                   8\n",
              "vistra-exr                                                                                                  6\n",
              "vistra-ls                                                                                                   6\n",
              "vistra-cxr,vistra-exr-issu                                                                                  6\n",
              "vistra-cxr,vistra-ls,vasr1001_sanity                                                                        4\n",
              "Arwen-vksr-sanity,ncs5500_Sanity,spitfire_hw_sanity,spitfire_sim_sanity                                     4\n",
              "Arwen-vksr-sanity,ncs5500_Sanity                                                                            3\n",
              "ncs540l_sanity,ncs5500_Sanity                                                                               2\n",
              "ncs540l_sanity,ncs5500_qos_bct,ncs5500_Sanity                                                               2\n",
              "enxr-kitefg-sanity,ncs5500_Sanity                                                                           2\n",
              "Arwen-vksr-sanity,ncs540l_sanity,ncs5500_Sanity                                                             2\n",
              "Arwen-vksr-sanity,ncs540l_sanity,ncs5500_qos_bct,ncs5500_Sanity,spitfire_hw_sanity,spitfire_sim_sanity      2\n",
              "Arwen-vksr-sanity,ncs540l_sanity,ncs5500_Sanity,spitfire_hw_sanity,spitfire_sim_sanity                      2\n",
              "enxr-kitefg-sanity                                                                                          2\n",
              "Thor_Vista                                                                                                  2\n",
              "Name: Sanity name, dtype: int64"
            ]
          },
          "metadata": {},
          "execution_count": 56
        }
      ]
    },
    {
      "cell_type": "code",
      "source": [
        "per_fail_sanity = fail_sanity/total_sanity"
      ],
      "metadata": {
        "id": "7T395yHRcGfZ"
      },
      "execution_count": 57,
      "outputs": []
    },
    {
      "cell_type": "code",
      "source": [
        "per_fail_sanity"
      ],
      "metadata": {
        "colab": {
          "base_uri": "https://localhost:8080/"
        },
        "id": "yw5sWyP4cWMd",
        "outputId": "f2d73f4e-2cbe-478e-b034-5a29ebdba85a"
      },
      "execution_count": 58,
      "outputs": [
        {
          "output_type": "execute_result",
          "data": {
            "text/plain": [
              "Arwen-vksr-sanity                                                                                         0.100000\n",
              "Arwen-vksr-sanity,ncs540l_sanity,ncs5500_Sanity                                                                NaN\n",
              "Arwen-vksr-sanity,ncs540l_sanity,ncs5500_Sanity,spitfire_hw_sanity,spitfire_sim_sanity                    1.000000\n",
              "Arwen-vksr-sanity,ncs540l_sanity,ncs5500_qos_bct,ncs5500_Sanity,spitfire_hw_sanity,spitfire_sim_sanity         NaN\n",
              "Arwen-vksr-sanity,ncs5500_Sanity                                                                               NaN\n",
              "Arwen-vksr-sanity,ncs5500_Sanity,spitfire_hw_sanity,spitfire_sim_sanity                                        NaN\n",
              "NCS6K-HSAT-MINI                                                                                                NaN\n",
              "Sanity_not_Required                                                                                       0.357143\n",
              "Thor_Vista                                                                                                     NaN\n",
              "enxr-kitefg-sanity                                                                                             NaN\n",
              "enxr-kitefg-sanity,ncs5500_Sanity                                                                              NaN\n",
              "mini-CRS_QFTS                                                                                             0.550000\n",
              "mini-CRS_QFTS,NCS6K-HSAT-MINI                                                                                  NaN\n",
              "ncs540l_sanity,ncs5500_Sanity                                                                                  NaN\n",
              "ncs540l_sanity,ncs5500_qos_bct,ncs5500_Sanity                                                                  NaN\n",
              "ncs5500_Sanity                                                                                            0.142857\n",
              "ncs560_sanity                                                                                             0.111111\n",
              "vistra-cxr                                                                                                0.221311\n",
              "vistra-cxr,vistra-exr                                                                                          NaN\n",
              "vistra-cxr,vistra-exr-issu                                                                                0.333333\n",
              "vistra-cxr,vistra-ls,vasr1001_sanity                                                                           NaN\n",
              "vistra-exr                                                                                                0.166667\n",
              "vistra-ls                                                                                                      NaN\n",
              "vistra-ls,vasr1001_sanity                                                                                 0.500000\n",
              "xrv9k-sanity_PD                                                                                           0.066667\n",
              "Name: Sanity name, dtype: float64"
            ]
          },
          "metadata": {},
          "execution_count": 58
        }
      ]
    },
    {
      "cell_type": "code",
      "source": [],
      "metadata": {
        "id": "4WKXplhGcYDu"
      },
      "execution_count": null,
      "outputs": []
    }
  ]
}